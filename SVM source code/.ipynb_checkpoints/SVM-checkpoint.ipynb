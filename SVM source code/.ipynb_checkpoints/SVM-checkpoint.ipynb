{
 "cells": [
  {
   "cell_type": "markdown",
   "id": "44007d42",
   "metadata": {},
   "source": [
    "## Import necessary dependencies"
   ]
  },
  {
   "cell_type": "code",
   "execution_count": 12,
   "id": "b3716c79",
   "metadata": {},
   "outputs": [],
   "source": [
    "from sklearn.feature_extraction.text import TfidfVectorizer\n",
    "import sklearn\n",
    "import pandas as pd\n",
    "import numpy as np\n",
    "np.random.seed(120)\n",
    "import pickle\n",
    "from random import sample"
   ]
  },
  {
   "cell_type": "markdown",
   "id": "6cc6c3c8",
   "metadata": {},
   "source": [
    "# Read our data"
   ]
  },
  {
   "cell_type": "code",
   "execution_count": 8,
   "id": "b4395822",
   "metadata": {},
   "outputs": [],
   "source": [
    "train_df = pd.read_csv(\"../Data/processed/train.csv\", sep = \"|\")\n",
    "test_df = pd.read_csv(\"../Data/processed/test.csv\", sep = \"|\")"
   ]
  },
  {
   "cell_type": "code",
   "execution_count": 9,
   "id": "f7211bd0",
   "metadata": {
    "scrolled": false
   },
   "outputs": [
    {
     "data": {
      "text/html": [
       "<div>\n",
       "<style scoped>\n",
       "    .dataframe tbody tr th:only-of-type {\n",
       "        vertical-align: middle;\n",
       "    }\n",
       "\n",
       "    .dataframe tbody tr th {\n",
       "        vertical-align: top;\n",
       "    }\n",
       "\n",
       "    .dataframe thead th {\n",
       "        text-align: right;\n",
       "    }\n",
       "</style>\n",
       "<table border=\"1\" class=\"dataframe\">\n",
       "  <thead>\n",
       "    <tr style=\"text-align: right;\">\n",
       "      <th></th>\n",
       "      <th>sentences</th>\n",
       "      <th>sentiments</th>\n",
       "    </tr>\n",
       "  </thead>\n",
       "  <tbody>\n",
       "    <tr>\n",
       "      <th>0</th>\n",
       "      <td>slide giáo_trình đầy_đủ</td>\n",
       "      <td>2</td>\n",
       "    </tr>\n",
       "    <tr>\n",
       "      <th>1</th>\n",
       "      <td>nhiệt_tình giảng_dạy gần_gũi với sinh_viên</td>\n",
       "      <td>2</td>\n",
       "    </tr>\n",
       "    <tr>\n",
       "      <th>2</th>\n",
       "      <td>đi học đầy_đủ full điểm chuyên cần</td>\n",
       "      <td>0</td>\n",
       "    </tr>\n",
       "    <tr>\n",
       "      <th>3</th>\n",
       "      <td>chưa áp_dụng công_nghệ_thông_tin và các thiết_...</td>\n",
       "      <td>0</td>\n",
       "    </tr>\n",
       "    <tr>\n",
       "      <th>4</th>\n",
       "      <td>thầy giảng bài hay có nhiều bài_tập ví_dụ ngay...</td>\n",
       "      <td>2</td>\n",
       "    </tr>\n",
       "    <tr>\n",
       "      <th>...</th>\n",
       "      <td>...</td>\n",
       "      <td>...</td>\n",
       "    </tr>\n",
       "    <tr>\n",
       "      <th>11421</th>\n",
       "      <td>chỉ vì môn game mà em học hai lần mà không qua...</td>\n",
       "      <td>0</td>\n",
       "    </tr>\n",
       "    <tr>\n",
       "      <th>11422</th>\n",
       "      <td>em cảm_ơn cô nhiều</td>\n",
       "      <td>2</td>\n",
       "    </tr>\n",
       "    <tr>\n",
       "      <th>11423</th>\n",
       "      <td>giao bài_tập quá nhiều</td>\n",
       "      <td>0</td>\n",
       "    </tr>\n",
       "    <tr>\n",
       "      <th>11424</th>\n",
       "      <td>giáo_viên dạy dễ hiểu nhiệt_tình</td>\n",
       "      <td>2</td>\n",
       "    </tr>\n",
       "    <tr>\n",
       "      <th>11425</th>\n",
       "      <td>gói gọn doubledot hay tận_tình phù_hợp với mọi...</td>\n",
       "      <td>2</td>\n",
       "    </tr>\n",
       "  </tbody>\n",
       "</table>\n",
       "<p>11426 rows × 2 columns</p>\n",
       "</div>"
      ],
      "text/plain": [
       "                                               sentences  sentiments\n",
       "0                                slide giáo_trình đầy_đủ           2\n",
       "1             nhiệt_tình giảng_dạy gần_gũi với sinh_viên           2\n",
       "2                     đi học đầy_đủ full điểm chuyên cần           0\n",
       "3      chưa áp_dụng công_nghệ_thông_tin và các thiết_...           0\n",
       "4      thầy giảng bài hay có nhiều bài_tập ví_dụ ngay...           2\n",
       "...                                                  ...         ...\n",
       "11421  chỉ vì môn game mà em học hai lần mà không qua...           0\n",
       "11422                                 em cảm_ơn cô nhiều           2\n",
       "11423                             giao bài_tập quá nhiều           0\n",
       "11424                   giáo_viên dạy dễ hiểu nhiệt_tình           2\n",
       "11425  gói gọn doubledot hay tận_tình phù_hợp với mọi...           2\n",
       "\n",
       "[11426 rows x 2 columns]"
      ]
     },
     "execution_count": 9,
     "metadata": {},
     "output_type": "execute_result"
    }
   ],
   "source": [
    "train_df"
   ]
  },
  {
   "cell_type": "code",
   "execution_count": 10,
   "id": "aa26540b",
   "metadata": {},
   "outputs": [
    {
     "data": {
      "text/plain": [
       "array(['giáo_trình chưa cụ_thể', 'giảng buồn_ngủ',\n",
       "       'giáo_viên vui_tính tận_tâm', ...,\n",
       "       'thầy không dạy nhiều chủ_yếu cho sinh_viên tự tìm_hiểu',\n",
       "       'em muốn đổi tên môn_học vì tên môn là lập_trình c fraction cplusplus nhưng lại học thiên về csharp',\n",
       "       'thầy vừa dạy vừa chat hoặc gọi điện_thoại thường_xuyên'],\n",
       "      dtype=object)"
      ]
     },
     "execution_count": 10,
     "metadata": {},
     "output_type": "execute_result"
    }
   ],
   "source": [
    "train_sentences = list(train_df['sentences'].values)\n",
    "test_sentences  = test_df['sentences'].values\n",
    "\n",
    "train_sentences\n",
    "test_sentences"
   ]
  },
  {
   "cell_type": "markdown",
   "id": "c3b3495e",
   "metadata": {},
   "source": [
    "# TF-IDF vectorizer"
   ]
  },
  {
   "cell_type": "markdown",
   "id": "d0e80ced",
   "metadata": {},
   "source": [
    "## Fit tf-idf vectorizer on the training set"
   ]
  },
  {
   "cell_type": "code",
   "execution_count": 11,
   "id": "e221d52a",
   "metadata": {},
   "outputs": [],
   "source": [
    "tfidf_vectorizer = TfidfVectorizer(ngram_range=(1, 1))\n",
    "\n",
    "train_vectors = tfidf_vectorizer.fit_transform(train_sentences)\n"
   ]
  },
  {
   "cell_type": "markdown",
   "id": "474594d2",
   "metadata": {},
   "source": [
    "## Save tf-idf vectorizer"
   ]
  },
  {
   "cell_type": "code",
   "execution_count": 12,
   "id": "0b495deb",
   "metadata": {},
   "outputs": [],
   "source": [
    "with open('./model_checkpoint/svm/vectorzier.pkl', 'wb') as f:\n",
    "    pickle.dump(tfidf_vectorizer, f)"
   ]
  },
  {
   "cell_type": "markdown",
   "id": "3dbc0fdf",
   "metadata": {},
   "source": [
    "## Transform x_train and y_train"
   ]
  },
  {
   "cell_type": "code",
   "execution_count": 13,
   "id": "f569c8de",
   "metadata": {},
   "outputs": [],
   "source": [
    "x_train = train_vectors\n",
    "y_train = train_df['sentiments'].values\n",
    "\n",
    "x_test = tfidf_vectorizer.transform(test_sentences)\n",
    "y_test = test_df['sentiments'].values"
   ]
  },
  {
   "cell_type": "markdown",
   "id": "59932e41",
   "metadata": {},
   "source": [
    "# Train SVM Model"
   ]
  },
  {
   "cell_type": "markdown",
   "id": "1d925e37",
   "metadata": {},
   "source": [
    "## Apply grid search for svm"
   ]
  },
  {
   "cell_type": "code",
   "execution_count": 10,
   "id": "b61bb469",
   "metadata": {},
   "outputs": [],
   "source": [
    "from sklearn.svm import SVC\n",
    "from sklearn.model_selection import GridSearchCV\n",
    "from sklearn.metrics import classification_report, confusion_matrix\n",
    "from sklearn.metrics import confusion_matrix\n",
    "\n",
    "weights = [{0:1, 1: 1, 2:1}, {0:1, 1:5, 2:1}, {0:1, 1:10, 2:1}]\n",
    "# param_grid = {'C': [0.1, 1, 10],\n",
    "#               'gamma': [ 1],\n",
    "#               'kernel': ['linear', 'rbf'],\n",
    "#              'class_weight': weights}\n",
    "\n",
    "\n",
    "\n",
    "param_grid = {'C': [1],\n",
    "              'gamma': [ 1, 0.1, 0.01],\n",
    "              'kernel': ['linear','rbf'],\n",
    "             'class_weight': [{0:1, 1:5, 2:1}]}\n",
    "\n",
    "\n",
    "svm_classifier = SVC(probability =True)\n",
    "\n",
    "svm_grid = GridSearchCV(svm_classifier, param_grid, cv = 5, verbose = 3\n",
    "                        , scoring='f1_weighted')"
   ]
  },
  {
   "cell_type": "code",
   "execution_count": null,
   "id": "1a543b04",
   "metadata": {
    "scrolled": true
   },
   "outputs": [
    {
     "name": "stdout",
     "output_type": "stream",
     "text": [
      "Fitting 5 folds for each of 6 candidates, totalling 30 fits\n",
      "[CV 1/5] END C=1, class_weight={0: 1, 1: 5, 2: 1}, gamma=1, kernel=linear;, score=0.897 total time=  13.7s\n",
      "[CV 2/5] END C=1, class_weight={0: 1, 1: 5, 2: 1}, gamma=1, kernel=linear;, score=0.893 total time=  13.5s\n",
      "[CV 3/5] END C=1, class_weight={0: 1, 1: 5, 2: 1}, gamma=1, kernel=linear;, score=0.893 total time=  13.8s\n",
      "[CV 4/5] END C=1, class_weight={0: 1, 1: 5, 2: 1}, gamma=1, kernel=linear;, score=0.898 total time=  13.3s\n",
      "[CV 5/5] END C=1, class_weight={0: 1, 1: 5, 2: 1}, gamma=1, kernel=linear;, score=0.882 total time=  12.7s\n",
      "[CV 1/5] END C=1, class_weight={0: 1, 1: 5, 2: 1}, gamma=1, kernel=rbf;, score=0.907 total time=  21.3s\n",
      "[CV 2/5] END C=1, class_weight={0: 1, 1: 5, 2: 1}, gamma=1, kernel=rbf;, score=0.901 total time=  21.8s\n",
      "[CV 3/5] END C=1, class_weight={0: 1, 1: 5, 2: 1}, gamma=1, kernel=rbf;, score=0.914 total time=  22.9s\n",
      "[CV 4/5] END C=1, class_weight={0: 1, 1: 5, 2: 1}, gamma=1, kernel=rbf;, score=0.910 total time=  22.0s\n",
      "[CV 5/5] END C=1, class_weight={0: 1, 1: 5, 2: 1}, gamma=1, kernel=rbf;, score=0.887 total time=  21.1s\n",
      "[CV 1/5] END C=1, class_weight={0: 1, 1: 5, 2: 1}, gamma=0.1, kernel=linear;, score=0.897 total time=  13.5s\n",
      "[CV 2/5] END C=1, class_weight={0: 1, 1: 5, 2: 1}, gamma=0.1, kernel=linear;, score=0.893 total time=  13.9s\n",
      "[CV 3/5] END C=1, class_weight={0: 1, 1: 5, 2: 1}, gamma=0.1, kernel=linear;, score=0.893 total time=  15.6s\n",
      "[CV 4/5] END C=1, class_weight={0: 1, 1: 5, 2: 1}, gamma=0.1, kernel=linear;, score=0.898 total time=  14.2s\n",
      "[CV 5/5] END C=1, class_weight={0: 1, 1: 5, 2: 1}, gamma=0.1, kernel=linear;, score=0.882 total time=  16.1s\n",
      "[CV 1/5] END C=1, class_weight={0: 1, 1: 5, 2: 1}, gamma=0.1, kernel=rbf;, score=0.891 total time=  20.3s\n",
      "[CV 2/5] END C=1, class_weight={0: 1, 1: 5, 2: 1}, gamma=0.1, kernel=rbf;, score=0.895 total time=  19.6s\n",
      "[CV 3/5] END C=1, class_weight={0: 1, 1: 5, 2: 1}, gamma=0.1, kernel=rbf;, score=0.900 total time=  19.7s\n",
      "[CV 4/5] END C=1, class_weight={0: 1, 1: 5, 2: 1}, gamma=0.1, kernel=rbf;, score=0.902 total time=  20.0s\n"
     ]
    }
   ],
   "source": [
    "svm_grid.fit(x_train, y_train)"
   ]
  },
  {
   "cell_type": "markdown",
   "id": "67fd95ee",
   "metadata": {},
   "source": [
    "### Best svm parameters\n",
    "{'C': 1, 'class_weight': {0: 1, 1: 5, 2: 1}, 'gamma': 1, 'kernel': 'rbf'}\n"
   ]
  },
  {
   "cell_type": "code",
   "execution_count": null,
   "id": "07864a0e",
   "metadata": {},
   "outputs": [],
   "source": [
    "print(svm_grid.best_params_)"
   ]
  },
  {
   "cell_type": "markdown",
   "id": "21d961a7",
   "metadata": {},
   "source": [
    "## Re-train svm model with the best parameters"
   ]
  },
  {
   "cell_type": "code",
   "execution_count": 13,
   "id": "de681eeb",
   "metadata": {},
   "outputs": [
    {
     "data": {
      "text/plain": [
       "SVC(C=1, class_weight={0: 1, 1: 5, 2: 1}, gamma=1, probability=True)"
      ]
     },
     "execution_count": 13,
     "metadata": {},
     "output_type": "execute_result"
    }
   ],
   "source": [
    "from sklearn import svm\n",
    "\n",
    "classifier_linear = svm.SVC(C=1, class_weight={0: 1, 1: 5, 2: 1}, gamma=1, probability=True)\n",
    "classifier_linear.fit(x_train, y_train)"
   ]
  },
  {
   "cell_type": "markdown",
   "id": "5379363d",
   "metadata": {},
   "source": [
    "## Save and load SVM model"
   ]
  },
  {
   "cell_type": "code",
   "execution_count": 27,
   "id": "e90ff705",
   "metadata": {},
   "outputs": [],
   "source": [
    "import pickle\n",
    "\n",
    "# save\n",
    "with open('./model_checkpoint/svm/svm.pkl','wb') as f:\n",
    "    pickle.dump(classifier_linear,f)\n"
   ]
  },
  {
   "cell_type": "code",
   "execution_count": 6,
   "id": "5f311e53",
   "metadata": {},
   "outputs": [],
   "source": [
    "with open('./model_checkpoint/svm/svm.pkl', 'rb') as model:\n",
    "    classifier_linear = pickle.load(model)\n"
   ]
  },
  {
   "cell_type": "markdown",
   "id": "3651456e",
   "metadata": {},
   "source": [
    "## Test svm on the test set"
   ]
  },
  {
   "cell_type": "code",
   "execution_count": 15,
   "id": "1d09e5b3",
   "metadata": {
    "scrolled": true
   },
   "outputs": [
    {
     "name": "stdout",
     "output_type": "stream",
     "text": [
      "              precision    recall  f1-score   support\n",
      "\n",
      "           0     0.8991    0.9603    0.9287       705\n",
      "           1     0.5581    0.3288    0.4138        73\n",
      "           2     0.9530    0.9317    0.9422       805\n",
      "\n",
      "    accuracy                         0.9166      1583\n",
      "   macro avg     0.8034    0.7402    0.7616      1583\n",
      "weighted avg     0.9108    0.9166    0.9118      1583\n",
      "\n"
     ]
    },
    {
     "name": "stderr",
     "output_type": "stream",
     "text": [
      "C:\\Users\\Dung\\AppData\\Roaming\\Python\\Python38\\site-packages\\sklearn\\utils\\deprecation.py:87: FutureWarning: Function plot_confusion_matrix is deprecated; Function `plot_confusion_matrix` is deprecated in 1.0 and will be removed in 1.2. Use one of the class methods: ConfusionMatrixDisplay.from_predictions or ConfusionMatrixDisplay.from_estimator.\n",
      "  warnings.warn(msg, category=FutureWarning)\n"
     ]
    },
    {
     "data": {
      "text/plain": [
       "<sklearn.metrics._plot.confusion_matrix.ConfusionMatrixDisplay at 0x2102a5fb8b0>"
      ]
     },
     "execution_count": 15,
     "metadata": {},
     "output_type": "execute_result"
    },
    {
     "data": {
      "image/png": "[encoded data removed]",
      "text/plain": [
       "<Figure size 432x288 with 2 Axes>"
      ]
     },
     "metadata": {
      "needs_background": "light"
     },
     "output_type": "display_data"
    }
   ],
   "source": [
    "from sklearn.metrics import plot_confusion_matrix\n",
    "from sklearn.metrics import classification_report, confusion_matrix\n",
    "\n",
    "test_predictions = classifier_linear.predict(x_test)\n",
    "print(classification_report(y_test, test_predictions, digits = 4))\n",
    "plot_confusion_matrix(classifier_linear,x_test,y_test, display_labels = ['Negative', 'Neutral', 'Positive'])"
   ]
  },
  {
   "cell_type": "markdown",
   "id": "31a0382c",
   "metadata": {},
   "source": [
    "# Demo for svm"
   ]
  },
  {
   "cell_type": "code",
   "execution_count": 66,
   "id": "d5abafd8",
   "metadata": {
    "scrolled": false
   },
   "outputs": [],
   "source": [
    "class SVM_Classifier():\n",
    "    def __init__(self, model_path = \"./model_checkpoint/svm/svm.pkl\",vectorizer_path = './model_checkpoint/svm/vectorzier.pkl'):\n",
    "        with open(model_path, 'rb') as model:\n",
    "            self.model = pickle.load(model)\n",
    "        \n",
    "        with open(vectorizer_path, 'rb') as vectorizer:\n",
    "            self.vectorizer = pickle.load(vectorizer)\n",
    "    \n",
    "    def predict(self, sentence_list, true_class_name = False):\n",
    "        if isinstance(sentence_list, str):\n",
    "            sentence_list = [sentence_list]\n",
    "        vectorized =  self.vectorizer.transform(sentence_list)\n",
    "        predictions = self.model.predict(vectorized)\n",
    "        \n",
    "        class_names = {0: 'Negative', 1:'Neutral', 2:'Positive'}\n",
    "        \n",
    "        if true_class_name:\n",
    "            class_predictions = []\n",
    "            for num in predictions:\n",
    "                class_name = class_names[num]\n",
    "                class_predictions.append(class_name)\n",
    "            \n",
    "            final_predictions = class_predictions\n",
    "        else:\n",
    "            final_predictions = predictions\n",
    "        \n",
    "        return final_predictions\n",
    "    \n",
    "    def predict_proba(self, sentence_list):\n",
    "        if isinstance(sentence_list, str):\n",
    "            sentence_list = [sentence_list]\n",
    "\n",
    "        vectorized =  self.vectorizer.transform(sentence_list)\n",
    "        probabilities = self.model.predict_proba(vectorized)\n",
    "        return probabilities\n",
    "\n",
    "        \n",
    "#         print(vectorized)\n",
    "#         labels = ['Negative','Netural','Positive']\n",
    "        "
   ]
  },
  {
   "cell_type": "markdown",
   "id": "9be342fb",
   "metadata": {},
   "source": [
    "### Output ra số (0,1,2)"
   ]
  },
  {
   "cell_type": "code",
   "execution_count": 67,
   "id": "c0b1a986",
   "metadata": {},
   "outputs": [
    {
     "name": "stdout",
     "output_type": "stream",
     "text": [
      "[0 0 2 ... 0 0 2]\n"
     ]
    }
   ],
   "source": [
    "svm_classifier = SVM_Classifier()\n",
    "num_predictions = svm_classifier.predict(test_sentences, true_class_name = False)\n",
    "print(num_predictions)"
   ]
  },
  {
   "cell_type": "code",
   "execution_count": 68,
   "id": "1b11f40f",
   "metadata": {},
   "outputs": [
    {
     "name": "stdout",
     "output_type": "stream",
     "text": [
      "['Negative', 'Negative', 'Positive', 'Negative', 'Negative', 'Negative', 'Negative', 'Positive', 'Negative', 'Negative', 'Positive', 'Positive', 'Negative', 'Positive', 'Positive', 'Negative', 'Positive', 'Positive', 'Negative', 'Negative', 'Negative', 'Negative', 'Positive', 'Neutral', 'Positive', 'Positive', 'Negative', 'Negative', 'Negative', 'Positive', 'Positive', 'Positive', 'Positive', 'Negative', 'Negative', 'Negative', 'Negative', 'Neutral', 'Positive', 'Negative', 'Negative', 'Negative', 'Positive', 'Positive', 'Negative', 'Negative', 'Positive', 'Negative', 'Positive', 'Positive', 'Positive', 'Neutral', 'Positive', 'Negative', 'Positive', 'Negative', 'Negative', 'Negative', 'Positive', 'Positive', 'Positive', 'Positive', 'Positive', 'Positive', 'Positive', 'Negative', 'Negative', 'Negative', 'Negative', 'Negative', 'Positive', 'Neutral', 'Positive', 'Negative', 'Positive', 'Negative', 'Negative', 'Negative', 'Negative', 'Negative', 'Positive', 'Negative', 'Positive', 'Positive', 'Negative', 'Negative', 'Positive', 'Negative', 'Positive', 'Negative', 'Positive', 'Negative', 'Positive', 'Negative', 'Negative', 'Positive', 'Positive', 'Positive', 'Positive', 'Positive', 'Positive', 'Positive', 'Positive', 'Negative', 'Negative', 'Negative', 'Positive', 'Positive', 'Positive', 'Positive', 'Positive', 'Negative', 'Positive', 'Negative', 'Positive', 'Positive', 'Negative', 'Positive', 'Negative', 'Positive', 'Positive', 'Neutral', 'Negative', 'Negative', 'Positive', 'Negative', 'Negative', 'Positive', 'Negative', 'Positive', 'Positive', 'Positive', 'Negative', 'Positive', 'Negative', 'Positive', 'Negative', 'Positive', 'Positive', 'Negative', 'Negative', 'Negative', 'Positive', 'Positive', 'Negative', 'Positive', 'Negative', 'Positive', 'Negative', 'Positive', 'Negative', 'Positive', 'Negative', 'Positive', 'Negative', 'Negative', 'Positive', 'Negative', 'Positive', 'Positive', 'Negative', 'Negative', 'Positive', 'Negative', 'Positive', 'Negative', 'Positive', 'Positive', 'Negative', 'Negative', 'Negative', 'Negative', 'Positive', 'Positive', 'Positive', 'Negative', 'Positive', 'Negative', 'Positive', 'Negative', 'Positive', 'Positive', 'Positive', 'Positive', 'Negative', 'Positive', 'Positive', 'Negative', 'Positive', 'Negative', 'Negative', 'Positive', 'Positive', 'Positive', 'Negative', 'Positive', 'Negative', 'Negative', 'Positive', 'Positive', 'Negative', 'Negative', 'Positive', 'Positive', 'Negative', 'Negative', 'Negative', 'Positive', 'Negative', 'Negative', 'Positive', 'Positive', 'Positive', 'Negative', 'Negative', 'Positive', 'Positive', 'Negative', 'Negative', 'Positive', 'Positive', 'Positive', 'Negative', 'Positive', 'Negative', 'Negative', 'Negative', 'Negative', 'Positive', 'Negative', 'Positive', 'Positive', 'Positive', 'Positive', 'Positive', 'Positive', 'Negative', 'Positive', 'Positive', 'Negative', 'Positive', 'Negative', 'Positive', 'Negative', 'Negative', 'Positive', 'Negative', 'Negative', 'Neutral', 'Negative', 'Negative', 'Positive', 'Positive', 'Negative', 'Positive', 'Positive', 'Positive', 'Negative', 'Negative', 'Negative', 'Positive', 'Negative', 'Positive', 'Negative', 'Negative', 'Negative', 'Negative', 'Positive', 'Negative', 'Negative', 'Negative', 'Negative', 'Positive', 'Positive', 'Positive', 'Negative', 'Positive', 'Negative', 'Positive', 'Negative', 'Positive', 'Positive', 'Negative', 'Positive', 'Positive', 'Positive', 'Positive', 'Positive', 'Positive', 'Positive', 'Negative', 'Negative', 'Negative', 'Negative', 'Negative', 'Positive', 'Positive', 'Negative', 'Negative', 'Positive', 'Positive', 'Negative', 'Negative', 'Negative', 'Negative', 'Positive', 'Negative', 'Positive', 'Positive', 'Positive', 'Negative', 'Negative', 'Negative', 'Positive', 'Positive', 'Positive', 'Positive', 'Negative', 'Negative', 'Neutral', 'Negative', 'Negative', 'Positive', 'Positive', 'Positive', 'Negative', 'Negative', 'Negative', 'Positive', 'Negative', 'Negative', 'Negative', 'Negative', 'Negative', 'Positive', 'Negative', 'Positive', 'Positive', 'Negative', 'Positive', 'Negative', 'Neutral', 'Positive', 'Negative', 'Positive', 'Negative', 'Positive', 'Negative', 'Negative', 'Negative', 'Positive', 'Positive', 'Positive', 'Positive', 'Positive', 'Positive', 'Positive', 'Negative', 'Negative', 'Positive', 'Positive', 'Negative', 'Negative', 'Positive', 'Positive', 'Negative', 'Positive', 'Neutral', 'Positive', 'Negative', 'Positive', 'Positive', 'Negative', 'Positive', 'Negative', 'Positive', 'Positive', 'Positive', 'Negative', 'Negative', 'Positive', 'Positive', 'Positive', 'Positive', 'Positive', 'Positive', 'Positive', 'Positive', 'Positive', 'Negative', 'Negative', 'Positive', 'Positive', 'Positive', 'Negative', 'Negative', 'Positive', 'Positive', 'Positive', 'Positive', 'Negative', 'Positive', 'Positive', 'Negative', 'Negative', 'Neutral', 'Positive', 'Negative', 'Positive', 'Positive', 'Positive', 'Negative', 'Positive', 'Positive', 'Negative', 'Negative', 'Positive', 'Positive', 'Negative', 'Positive', 'Positive', 'Positive', 'Neutral', 'Negative', 'Positive', 'Positive', 'Positive', 'Negative', 'Positive', 'Neutral', 'Negative', 'Positive', 'Negative', 'Positive', 'Negative', 'Negative', 'Negative', 'Positive', 'Negative', 'Positive', 'Positive', 'Negative', 'Positive', 'Negative', 'Positive', 'Positive', 'Negative', 'Negative', 'Negative', 'Positive', 'Negative', 'Negative', 'Negative', 'Positive', 'Negative', 'Negative', 'Positive', 'Negative', 'Negative', 'Positive', 'Positive', 'Positive', 'Negative', 'Positive', 'Negative', 'Positive', 'Negative', 'Positive', 'Positive', 'Negative', 'Negative', 'Positive', 'Negative', 'Positive', 'Positive', 'Positive', 'Negative', 'Positive', 'Positive', 'Positive', 'Positive', 'Negative', 'Positive', 'Positive', 'Negative', 'Positive', 'Negative', 'Positive', 'Negative', 'Negative', 'Positive', 'Negative', 'Negative', 'Positive', 'Positive', 'Negative', 'Positive', 'Negative', 'Negative', 'Positive', 'Negative', 'Positive', 'Negative', 'Positive', 'Negative', 'Negative', 'Negative', 'Positive', 'Positive', 'Negative', 'Positive', 'Negative', 'Negative', 'Negative', 'Positive', 'Positive', 'Positive', 'Positive', 'Positive', 'Negative', 'Negative', 'Negative', 'Positive', 'Negative', 'Positive', 'Neutral', 'Negative', 'Positive', 'Negative', 'Negative', 'Negative', 'Positive', 'Positive', 'Negative', 'Negative', 'Positive', 'Positive', 'Negative', 'Positive', 'Positive', 'Negative', 'Negative', 'Positive', 'Negative', 'Positive', 'Negative', 'Positive', 'Positive', 'Negative', 'Negative', 'Positive', 'Negative', 'Positive', 'Negative', 'Positive', 'Positive', 'Positive', 'Positive', 'Negative', 'Negative', 'Positive', 'Positive', 'Negative', 'Positive', 'Negative', 'Negative', 'Positive', 'Positive', 'Positive', 'Negative', 'Positive', 'Positive', 'Negative', 'Positive', 'Positive', 'Positive', 'Positive', 'Positive', 'Negative', 'Negative', 'Positive', 'Negative', 'Positive', 'Positive', 'Negative', 'Positive', 'Negative', 'Negative', 'Positive', 'Positive', 'Negative', 'Negative', 'Negative', 'Negative', 'Positive', 'Negative', 'Negative', 'Positive', 'Positive', 'Negative', 'Neutral', 'Negative', 'Positive', 'Positive', 'Positive', 'Negative', 'Negative', 'Positive', 'Positive', 'Positive', 'Negative', 'Negative', 'Positive', 'Negative', 'Positive', 'Neutral', 'Negative', 'Positive', 'Positive', 'Negative', 'Negative', 'Negative', 'Negative', 'Positive', 'Positive', 'Negative', 'Positive', 'Positive', 'Negative', 'Negative', 'Positive', 'Negative', 'Positive', 'Negative', 'Negative', 'Negative', 'Positive', 'Positive', 'Neutral', 'Negative', 'Negative', 'Negative', 'Negative', 'Negative', 'Positive', 'Positive', 'Positive', 'Neutral', 'Negative', 'Negative', 'Positive', 'Positive', 'Positive', 'Negative', 'Positive', 'Negative', 'Positive', 'Negative', 'Positive', 'Positive', 'Negative', 'Positive', 'Negative', 'Positive', 'Positive', 'Positive', 'Positive', 'Negative', 'Positive', 'Positive', 'Negative', 'Negative', 'Positive', 'Negative', 'Positive', 'Negative', 'Negative', 'Positive', 'Positive', 'Negative', 'Negative', 'Positive', 'Negative', 'Negative', 'Positive', 'Negative', 'Positive', 'Negative', 'Negative', 'Negative', 'Negative', 'Negative', 'Positive', 'Positive', 'Negative', 'Negative', 'Negative', 'Negative', 'Positive', 'Negative', 'Positive', 'Negative', 'Negative', 'Negative', 'Positive', 'Positive', 'Positive', 'Positive', 'Negative', 'Negative', 'Positive', 'Positive', 'Positive', 'Negative', 'Positive', 'Negative', 'Positive', 'Positive', 'Negative', 'Positive', 'Negative', 'Positive', 'Negative', 'Positive', 'Negative', 'Negative', 'Positive', 'Negative', 'Negative', 'Positive', 'Positive', 'Positive', 'Positive', 'Positive', 'Negative', 'Negative', 'Negative', 'Negative', 'Negative', 'Positive', 'Positive', 'Positive', 'Positive', 'Positive', 'Positive', 'Positive', 'Positive', 'Neutral', 'Negative', 'Positive', 'Negative', 'Negative', 'Positive', 'Negative', 'Negative', 'Positive', 'Neutral', 'Negative', 'Negative', 'Negative', 'Negative', 'Negative', 'Negative', 'Positive', 'Positive', 'Negative', 'Negative', 'Positive', 'Negative', 'Negative', 'Negative', 'Negative', 'Positive', 'Negative', 'Positive', 'Positive', 'Negative', 'Positive', 'Negative', 'Negative', 'Negative', 'Positive', 'Neutral', 'Negative', 'Positive', 'Positive', 'Positive', 'Negative', 'Positive', 'Positive', 'Negative', 'Positive', 'Negative', 'Negative', 'Positive', 'Negative', 'Positive', 'Positive', 'Positive', 'Negative', 'Positive', 'Positive', 'Negative', 'Negative', 'Negative', 'Negative', 'Positive', 'Negative', 'Positive', 'Negative', 'Negative', 'Positive', 'Positive', 'Positive', 'Positive', 'Negative', 'Negative', 'Negative', 'Positive', 'Neutral', 'Positive', 'Positive', 'Negative', 'Negative', 'Negative', 'Negative', 'Positive', 'Positive', 'Negative', 'Positive', 'Negative', 'Negative', 'Positive', 'Positive', 'Neutral', 'Positive', 'Neutral', 'Neutral', 'Positive', 'Negative', 'Negative', 'Negative', 'Positive', 'Negative', 'Negative', 'Negative', 'Negative', 'Positive', 'Neutral', 'Positive', 'Positive', 'Positive', 'Positive', 'Negative', 'Negative', 'Negative', 'Negative', 'Negative', 'Positive', 'Negative', 'Positive', 'Negative', 'Positive', 'Negative', 'Positive', 'Negative', 'Negative', 'Positive', 'Positive', 'Negative', 'Positive', 'Negative', 'Negative', 'Positive', 'Negative', 'Negative', 'Positive', 'Negative', 'Negative', 'Positive', 'Negative', 'Negative', 'Negative', 'Positive', 'Negative', 'Neutral', 'Negative', 'Negative', 'Positive', 'Negative', 'Negative', 'Positive', 'Negative', 'Negative', 'Positive', 'Negative', 'Negative', 'Negative', 'Negative', 'Negative', 'Negative', 'Negative', 'Positive', 'Positive', 'Negative', 'Negative', 'Negative', 'Positive', 'Positive', 'Positive', 'Negative', 'Negative', 'Positive', 'Positive', 'Positive', 'Positive', 'Positive', 'Negative', 'Negative', 'Neutral', 'Positive', 'Positive', 'Positive', 'Negative', 'Positive', 'Negative', 'Negative', 'Negative', 'Negative', 'Positive', 'Positive', 'Positive', 'Negative', 'Positive', 'Positive', 'Positive', 'Negative', 'Positive', 'Negative', 'Positive', 'Negative', 'Positive', 'Negative', 'Negative', 'Negative', 'Positive', 'Negative', 'Negative', 'Negative', 'Positive', 'Positive', 'Negative', 'Negative', 'Negative', 'Negative', 'Positive', 'Positive', 'Neutral', 'Positive', 'Negative', 'Negative', 'Positive', 'Negative', 'Positive', 'Negative', 'Negative', 'Negative', 'Positive', 'Positive', 'Negative', 'Positive', 'Positive', 'Negative', 'Negative', 'Positive', 'Positive', 'Positive', 'Negative', 'Negative', 'Positive', 'Neutral', 'Positive', 'Negative', 'Negative', 'Positive', 'Positive', 'Positive', 'Positive', 'Positive', 'Positive', 'Negative', 'Positive', 'Positive', 'Positive', 'Positive', 'Positive', 'Positive', 'Negative', 'Positive', 'Positive', 'Positive', 'Negative', 'Positive', 'Negative', 'Positive', 'Positive', 'Negative', 'Negative', 'Negative', 'Negative', 'Positive', 'Neutral', 'Negative', 'Positive', 'Positive', 'Positive', 'Negative', 'Positive', 'Negative', 'Positive', 'Positive', 'Negative', 'Negative', 'Positive', 'Negative', 'Negative', 'Negative', 'Negative', 'Positive', 'Negative', 'Positive', 'Positive', 'Negative', 'Positive', 'Positive', 'Positive', 'Negative', 'Positive', 'Negative', 'Positive', 'Positive', 'Negative', 'Positive', 'Positive', 'Negative', 'Positive', 'Positive', 'Positive', 'Negative', 'Positive', 'Negative', 'Negative', 'Negative', 'Negative', 'Negative', 'Negative', 'Positive', 'Negative', 'Negative', 'Negative', 'Positive', 'Negative', 'Negative', 'Negative', 'Positive', 'Negative', 'Negative', 'Positive', 'Negative', 'Positive', 'Positive', 'Positive', 'Positive', 'Positive', 'Negative', 'Positive', 'Positive', 'Positive', 'Negative', 'Negative', 'Negative', 'Negative', 'Negative', 'Positive', 'Negative', 'Positive', 'Positive', 'Positive', 'Negative', 'Negative', 'Negative', 'Negative', 'Neutral', 'Negative', 'Negative', 'Negative', 'Positive', 'Positive', 'Negative', 'Negative', 'Negative', 'Positive', 'Positive', 'Positive', 'Positive', 'Positive', 'Neutral', 'Positive', 'Negative', 'Positive', 'Positive', 'Positive', 'Negative', 'Positive', 'Negative', 'Negative', 'Positive', 'Neutral', 'Positive', 'Negative', 'Positive', 'Negative', 'Positive', 'Positive', 'Positive', 'Neutral', 'Negative', 'Positive', 'Positive', 'Positive', 'Negative', 'Positive', 'Negative', 'Positive', 'Negative', 'Negative', 'Positive', 'Positive', 'Negative', 'Positive', 'Positive', 'Positive', 'Positive', 'Positive', 'Positive', 'Positive', 'Negative', 'Negative', 'Positive', 'Positive', 'Negative', 'Positive', 'Positive', 'Negative', 'Negative', 'Positive', 'Positive', 'Negative', 'Positive', 'Positive', 'Negative', 'Positive', 'Negative', 'Negative', 'Positive', 'Negative', 'Negative', 'Positive', 'Positive', 'Negative', 'Positive', 'Negative', 'Positive', 'Negative', 'Positive', 'Negative', 'Positive', 'Positive', 'Positive', 'Negative', 'Negative', 'Positive', 'Positive', 'Neutral', 'Negative', 'Positive', 'Negative', 'Negative', 'Negative', 'Positive', 'Positive', 'Positive', 'Positive', 'Negative', 'Positive', 'Negative', 'Negative', 'Positive', 'Negative', 'Negative', 'Negative', 'Positive', 'Positive', 'Positive', 'Positive', 'Positive', 'Positive', 'Negative', 'Positive', 'Positive', 'Positive', 'Negative', 'Negative', 'Negative', 'Positive', 'Positive', 'Negative', 'Negative', 'Positive', 'Positive', 'Neutral', 'Negative', 'Negative', 'Positive', 'Positive', 'Negative', 'Negative', 'Negative', 'Negative', 'Negative', 'Negative', 'Positive', 'Positive', 'Negative', 'Negative', 'Negative', 'Negative', 'Positive', 'Positive', 'Negative', 'Positive', 'Positive', 'Positive', 'Positive', 'Positive', 'Negative', 'Negative', 'Neutral', 'Negative', 'Positive', 'Positive', 'Positive', 'Positive', 'Positive', 'Positive', 'Negative', 'Negative', 'Negative', 'Negative', 'Positive', 'Negative', 'Positive', 'Negative', 'Positive', 'Positive', 'Negative', 'Positive', 'Negative', 'Positive', 'Positive', 'Negative', 'Negative', 'Positive', 'Positive', 'Positive', 'Positive', 'Positive', 'Negative', 'Negative', 'Positive', 'Positive', 'Negative', 'Negative', 'Negative', 'Positive', 'Negative', 'Negative', 'Positive', 'Negative', 'Positive', 'Negative', 'Negative', 'Negative', 'Positive', 'Negative', 'Positive', 'Positive', 'Negative', 'Negative', 'Positive', 'Positive', 'Neutral', 'Negative', 'Negative', 'Positive', 'Positive', 'Negative', 'Positive', 'Negative', 'Negative', 'Positive', 'Positive', 'Positive', 'Positive', 'Positive', 'Negative', 'Positive', 'Negative', 'Negative', 'Positive', 'Positive', 'Negative', 'Negative', 'Negative', 'Negative', 'Negative', 'Negative', 'Negative', 'Positive', 'Positive', 'Negative', 'Negative', 'Negative', 'Negative', 'Positive', 'Positive', 'Positive', 'Positive', 'Negative', 'Negative', 'Positive', 'Negative', 'Positive', 'Positive', 'Negative', 'Positive', 'Positive', 'Negative', 'Positive', 'Negative', 'Positive', 'Neutral', 'Negative', 'Positive', 'Negative', 'Positive', 'Positive', 'Negative', 'Negative', 'Positive', 'Negative', 'Negative', 'Positive', 'Neutral', 'Negative', 'Negative', 'Negative', 'Positive', 'Positive', 'Negative', 'Negative', 'Negative', 'Positive', 'Negative', 'Negative', 'Positive', 'Negative', 'Positive', 'Negative', 'Positive', 'Negative', 'Negative', 'Negative', 'Positive', 'Positive', 'Positive', 'Negative', 'Positive', 'Negative', 'Positive', 'Negative', 'Negative', 'Negative', 'Negative', 'Negative', 'Positive', 'Negative', 'Negative', 'Positive', 'Negative', 'Neutral', 'Positive', 'Positive', 'Positive', 'Positive', 'Negative', 'Positive', 'Negative', 'Positive', 'Negative', 'Positive', 'Positive', 'Negative', 'Positive', 'Negative', 'Negative', 'Positive', 'Negative', 'Positive', 'Negative', 'Positive', 'Negative', 'Positive', 'Positive', 'Negative', 'Positive', 'Negative', 'Positive', 'Negative', 'Negative', 'Positive', 'Positive', 'Negative', 'Positive', 'Positive', 'Positive', 'Negative', 'Negative', 'Positive', 'Positive', 'Positive', 'Positive', 'Positive', 'Negative', 'Positive', 'Negative', 'Positive', 'Negative', 'Positive', 'Negative', 'Negative', 'Negative', 'Positive', 'Positive', 'Negative', 'Positive', 'Positive', 'Positive', 'Positive', 'Positive', 'Positive', 'Positive', 'Positive', 'Negative', 'Negative', 'Neutral', 'Positive', 'Positive', 'Positive', 'Negative', 'Positive', 'Positive', 'Positive', 'Positive', 'Negative', 'Negative', 'Positive', 'Negative', 'Positive', 'Negative', 'Positive', 'Positive', 'Positive', 'Negative', 'Negative', 'Neutral', 'Positive', 'Positive', 'Negative', 'Positive', 'Negative', 'Negative', 'Negative', 'Positive', 'Positive', 'Positive', 'Positive', 'Positive', 'Negative', 'Negative', 'Negative', 'Positive', 'Positive', 'Positive', 'Negative', 'Positive', 'Positive', 'Negative', 'Negative', 'Negative', 'Positive', 'Negative', 'Positive', 'Negative', 'Positive', 'Negative', 'Positive', 'Positive', 'Negative', 'Positive', 'Positive', 'Negative', 'Positive', 'Negative', 'Positive', 'Negative', 'Positive', 'Negative', 'Negative', 'Negative', 'Negative', 'Negative', 'Positive', 'Negative', 'Positive', 'Positive', 'Negative', 'Negative', 'Positive', 'Negative', 'Positive', 'Negative', 'Negative', 'Negative', 'Negative', 'Negative', 'Positive', 'Negative', 'Negative', 'Negative', 'Positive', 'Positive', 'Negative', 'Positive', 'Negative', 'Negative', 'Positive', 'Positive', 'Positive', 'Positive', 'Negative', 'Negative', 'Positive', 'Positive', 'Negative', 'Positive', 'Negative', 'Negative', 'Negative', 'Positive', 'Negative', 'Positive', 'Positive', 'Negative', 'Positive', 'Negative', 'Negative', 'Positive', 'Negative', 'Positive', 'Negative', 'Negative', 'Positive']\n"
     ]
    }
   ],
   "source": [
    "class_predictions = svm_classifier.predict(test_sentences, true_class_name = True)\n",
    "print(class_predictions)"
   ]
  },
  {
   "cell_type": "code",
   "execution_count": 69,
   "id": "52a48413",
   "metadata": {},
   "outputs": [
    {
     "name": "stdout",
     "output_type": "stream",
     "text": [
      "[[0.99170753 0.00557457 0.00271791]\n",
      " [0.98761578 0.0052212  0.00716302]\n",
      " [0.00127888 0.00319914 0.99552197]\n",
      " ...\n",
      " [0.95016494 0.02636986 0.0234652 ]\n",
      " [0.6476149  0.18005224 0.17233286]\n",
      " [0.18559978 0.07819271 0.73620751]] (1583, 3)\n"
     ]
    }
   ],
   "source": [
    "proba_predictions = svm_classifier.predict_proba(test_sentences)\n",
    "print(proba_predictions, proba_predictions.shape)"
   ]
  },
  {
   "cell_type": "markdown",
   "id": "0bb08c03",
   "metadata": {},
   "source": [
    "## Demo sentences"
   ]
  },
  {
   "cell_type": "code",
   "execution_count": 70,
   "id": "0c56d99f",
   "metadata": {},
   "outputs": [],
   "source": [
    "demo_sentences = [\"các yêu cầu về đồ án môn học nên đươc đưa ra chính xác trước khi sinh viên bắt đầu thực hiện chia nhóm và làm đồ án\", \n",
    "\"dạy dễ hiểu dễ tiếp thu tập trung vài kiến thức trọng tâm\", \n",
    "\"cần cải cách lại nội dung các bài thực hành một số kiến nội dung trong bài thực hành đã trở nên lỗi thời\", \"thầy dạy hơi nhanh\", \n",
    "\"chúng ta không thuộc về nhau\", \n",
    "\"đề tài em chọn trong bài tập lớn là về phân phối chuẩn\"]"
   ]
  },
  {
   "cell_type": "markdown",
   "id": "32060dd7",
   "metadata": {},
   "source": [
    "## Predict class"
   ]
  },
  {
   "cell_type": "code",
   "execution_count": 71,
   "id": "77735b5b",
   "metadata": {},
   "outputs": [
    {
     "data": {
      "text/plain": [
       "['Negative', 'Positive', 'Negative', 'Negative', 'Negative', 'Negative']"
      ]
     },
     "execution_count": 71,
     "metadata": {},
     "output_type": "execute_result"
    }
   ],
   "source": [
    "svm_classifier.predict(demo_sentences, true_class_name = True)"
   ]
  },
  {
   "cell_type": "markdown",
   "id": "e2a4a82d",
   "metadata": {},
   "source": [
    "## Predict probability"
   ]
  },
  {
   "cell_type": "code",
   "execution_count": 72,
   "id": "fb8e699c",
   "metadata": {},
   "outputs": [
    {
     "data": {
      "text/plain": [
       "array([[0.11142334, 0.07064503, 0.81793164]])"
      ]
     },
     "execution_count": 72,
     "metadata": {},
     "output_type": "execute_result"
    }
   ],
   "source": [
    "svm_classifier.predict_proba(\"dạy dễ hiểu dễ tiếp thu tập trung vài kiến thức trọng tâm\")"
   ]
  },
  {
   "cell_type": "code",
   "execution_count": null,
   "id": "86573b8e",
   "metadata": {},
   "outputs": [],
   "source": []
  }
 ],
 "metadata": {
  "kernelspec": {
   "display_name": "Python 3 (ipykernel)",
   "language": "python",
   "name": "python3"
  },
  "language_info": {
   "codemirror_mode": {
    "name": "ipython",
    "version": 3
   },
   "file_extension": ".py",
   "mimetype": "text/x-python",
   "name": "python",
   "nbconvert_exporter": "python",
   "pygments_lexer": "ipython3",
   "version": "3.8.0"
  }
 },
 "nbformat": 4,
 "nbformat_minor": 5
}
